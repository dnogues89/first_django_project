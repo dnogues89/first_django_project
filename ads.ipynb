{
 "cells": [
  {
   "cell_type": "code",
   "execution_count": 2,
   "metadata": {},
   "outputs": [],
   "source": [
    "import json\n",
    "\n",
    "payload1 = {\n",
    "    \"object\": \"whatsapp_business_account\",\n",
    "    \"entry\": [\n",
    "        {\n",
    "            \"id\": \"101197359666835\",\n",
    "            \"changes\": [\n",
    "                {\n",
    "                    \"value\": {\n",
    "                        \"messaging_product\": \"whatsapp\",\n",
    "                        \"metadata\": {\n",
    "                            \"display_phone_number\": \"5491123007816\",\n",
    "                            \"phone_number_id\": \"118248457941989\"\n",
    "                        },\n",
    "                        \"contacts\": [\n",
    "                            {\n",
    "                                \"profile\": {\n",
    "                                    \"name\": \"DN\"\n",
    "                                },\n",
    "                                \"wa_id\": \"5491166531292\"\n",
    "                            }\n",
    "                        ],\n",
    "                        \"messages\": [\n",
    "                            {\n",
    "                                \"from\": \"5491166531292\",\n",
    "                                \"id\": \"wamid.HBgNNTQ5MTE2NjUzMTI5MhUCABIYFDNBNjUxMDEzQ0Q0NzA1NUQ0ODJCAA==\",\n",
    "                                \"timestamp\": \"1687962032\",\n",
    "                                \"type\": \"audio\",\n",
    "                                \"audio\": {\n",
    "                                    \"mime_type\": \"audio/ogg; codecs=opus\",\n",
    "                                    \"sha256\": \"jT/NJ/V27g+dz52mu7xh6FlqdakYVbFJL2n9kqa6SHI=\",\n",
    "                                    \"id\": \"1013387056773895\",\n",
    "                                    \"voice\": True\n",
    "                                }\n",
    "                            }\n",
    "                        ]\n",
    "                    },\n",
    "                    \"field\": \"messages\"\n",
    "                }\n",
    "            ]\n",
    "        }\n",
    "    ]\n",
    "}\n",
    "\n",
    "payload2 = {\n",
    "    \"object\": \"whatsapp_business_account\",\n",
    "    \"entry\": [\n",
    "        {\n",
    "            \"id\": \"101197359666835\",\n",
    "            \"changes\": [\n",
    "                {\n",
    "                    \"value\": {\n",
    "                        \"messaging_product\": \"whatsapp\",\n",
    "                        \"metadata\": {\n",
    "                            \"display_phone_number\": \"5491123007816\",\n",
    "                            \"phone_number_id\": \"118248457941989\"\n",
    "                        },\n",
    "                        \"statuses\": [\n",
    "                            {\n",
    "                                \"id\": \"wamid.HBgNNTQ5MTE2NjUzMTI5MhUCABEYEjg3OTExQjlFNTEwRDA1NkU4RQA=\",\n",
    "                                \"status\": \"sent\",\n",
    "                                \"timestamp\": \"1688144450\",\n",
    "                                \"recipient_id\": \"5491166531292\",\n",
    "                                \"conversation\": {\n",
    "                                    \"id\": \"73f2d6e26ad8c46d342707fddaa0233a\",\n",
    "                                    \"expiration_timestamp\": \"1688221380\",\n",
    "                                    \"origin\": {\n",
    "                                        \"type\": \"service\"\n",
    "                                    }\n",
    "                                },\n",
    "                                \"pricing\": {\n",
    "                                    \"billable\": True,\n",
    "                                    \"pricing_model\": \"CBP\",\n",
    "                                    \"category\": \"service\"\n",
    "                                }\n",
    "                            }\n",
    "                        ]\n",
    "                    },\n",
    "                    \"field\": \"messages\"\n",
    "                }\n",
    "            ]\n",
    "        }\n",
    "    ]\n",
    "}"
   ]
  },
  {
   "cell_type": "code",
   "execution_count": 4,
   "metadata": {},
   "outputs": [
    {
     "name": "stdout",
     "output_type": "stream",
     "text": [
      "wamid.HBgNNTQ5MTE2NjUzMTI5MhUCABEYEjg3OTExQjlFNTEwRDA1NkU4RQA=\n",
      "62\n"
     ]
    }
   ],
   "source": [
    "import json\n",
    "\n",
    "def encontrar_diferencia(json1, json2):\n",
    "    cadena1 = json.dumps(json1, sort_keys=True)\n",
    "    cadena2 = json.dumps(json2, sort_keys=True)\n",
    "\n",
    "    diferencia = \"\"\n",
    "    for char1, char2 in zip(cadena1, cadena2):\n",
    "        if char1 != char2:\n",
    "            diferencia += char2\n",
    "\n",
    "    return diferencia\n",
    "\n",
    "# Ejemplo de uso\n",
    "payload1 = {\n",
    "    \"object\": \"whatsapp_business_account\",\n",
    "    \"entry\": [\n",
    "        {\n",
    "            \"id\": \"101197359666835\",\n",
    "            \"changes\": [\n",
    "                {\n",
    "                    \"value\": {\n",
    "                        \"messaging_product\": \"whatsapp\",\n",
    "                        \"metadata\": {\n",
    "                            \"display_phone_number\": \"5491123007816\",\n",
    "                            \"phone_number_id\": \"118248457941989\"\n",
    "                        },\n",
    "                        \"contacts\": [\n",
    "                            {\n",
    "                                \"profile\": {\n",
    "                                    \"name\": \"DN\"\n",
    "                                },\n",
    "                                \"wa_id\": \"5491166531292\"\n",
    "                            }\n",
    "                        ],\n",
    "                        \"messages\": [\n",
    "                            {\n",
    "                                \"from\": \"5491166531292\",\n",
    "                                \"id\": \"wamid.HBgNNTQ5MTE2NjUzMTI5MhUCABIYFDNBNjUxMDEzQ0Q0NzA1NUQ0ODJCAA==\",\n",
    "                                \"timestamp\": \"1687962032\",\n",
    "                                \"type\": \"audio\",\n",
    "                                \"audio\": {\n",
    "                                    \"mime_type\": \"audio/ogg; codecs=opus\",\n",
    "                                    \"sha256\": \"jT/NJ/V27g+dz52mu7xh6FlqdakYVbFJL2n9kqa6SHI=\",\n",
    "                                    \"id\": \"1013387056773895\",\n",
    "                                    \"voice\": True\n",
    "                                }\n",
    "                            }\n",
    "                        ]\n",
    "                    },\n",
    "                    \"field\": \"messages\"\n",
    "                }\n",
    "            ]\n",
    "        }\n",
    "    ]\n",
    "}\n",
    "\n",
    "payload2 = {\n",
    "    \"object\": \"whatsapp_business_account\",\n",
    "    \"entry\": [\n",
    "        {\n",
    "            \"id\": \"101197359666835\",\n",
    "            \"changes\": [\n",
    "                {\n",
    "                    \"value\": {\n",
    "                        \"messaging_product\": \"whatsapp\",\n",
    "                        \"metadata\": {\n",
    "                            \"display_phone_number\": \"5491123007816\",\n",
    "                            \"phone_number_id\": \"118248457941989\"\n",
    "                        },\n",
    "                        \"statuses\": [\n",
    "                            {\n",
    "                                \"id\": \"wamid.HBgNNTQ5MTE2NjUzMTI5MhUCABEYEjg3OTExQjlFNTEwRDA1NkU4RQA=\",\n",
    "                                \"status\": \"sent\",\n",
    "                                \"timestamp\": \"1688144450\",\n",
    "                                \"recipient_id\": \"5491166531292\",\n",
    "                                \"conversation\": {\n",
    "                                    \"id\": \"73f2d6e26ad8c46d342707fddaa0233a\",\n",
    "                                    \"expiration_timestamp\": \"1688221380\",\n",
    "                                    \"origin\": {\n",
    "                                        \"type\": \"service\"\n",
    "                                    }\n",
    "                                },\n",
    "                                \"pricing\": {\n",
    "                                    \"billable\": True,\n",
    "                                    \"pricing_model\": \"CBP\",\n",
    "                                    \"category\": \"service\"\n",
    "                                }\n",
    "                            }\n",
    "                        ]\n",
    "                    },\n",
    "                    \"field\": \"messages\"\n",
    "                }\n",
    "            ]\n",
    "        }\n",
    "    ]\n",
    "}\n",
    "\n",
    "print(payload2[\"entry\"][0]['changes'][0]['value']['statuses'][0]['id'])\n",
    "print(len(payload2[\"entry\"][0]['changes'][0]['value']['statuses'][0]['id']))"
   ]
  },
  {
   "cell_type": "code",
   "execution_count": 5,
   "metadata": {},
   "outputs": [
    {
     "name": "stdout",
     "output_type": "stream",
     "text": [
      "1688564450\n"
     ]
    }
   ],
   "source": [
    "import time\n",
    "\n",
    "timestamp = int(time.time())\n",
    "print(timestamp)"
   ]
  },
  {
   "cell_type": "code",
   "execution_count": 2,
   "metadata": {},
   "outputs": [
    {
     "name": "stdout",
     "output_type": "stream",
     "text": [
      "0\n"
     ]
    }
   ],
   "source": [
    "print(2%2)"
   ]
  },
  {
   "cell_type": "code",
   "execution_count": 9,
   "metadata": {},
   "outputs": [
    {
     "name": "stdout",
     "output_type": "stream",
     "text": [
      "OK\n"
     ]
    }
   ],
   "source": [
    "if 'messages' in payload1['entry'][0]['changes'][0]['value']:\n",
    "    print('OK')"
   ]
  },
  {
   "cell_type": "code",
   "execution_count": null,
   "metadata": {},
   "outputs": [],
   "source": [
    "class wap_payload():\n",
    "    def __init__(self, payload):\n",
    "        self.analize_payload(payload)\n",
    "        \n",
    "    \n",
    "    def analize_payload(self,payload):\n",
    "        pass\n",
    "        "
   ]
  }
 ],
 "metadata": {
  "kernelspec": {
   "display_name": "venv",
   "language": "python",
   "name": "python3"
  },
  "language_info": {
   "codemirror_mode": {
    "name": "ipython",
    "version": 3
   },
   "file_extension": ".py",
   "mimetype": "text/x-python",
   "name": "python",
   "nbconvert_exporter": "python",
   "pygments_lexer": "ipython3",
   "version": "3.11.4"
  },
  "orig_nbformat": 4
 },
 "nbformat": 4,
 "nbformat_minor": 2
}
